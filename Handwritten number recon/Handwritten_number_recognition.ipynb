{
  "nbformat": 4,
  "nbformat_minor": 0,
  "metadata": {
    "colab": {
      "provenance": []
    },
    "kernelspec": {
      "name": "python3",
      "display_name": "Python 3"
    },
    "language_info": {
      "name": "python"
    }
  },
  "cells": [
    {
      "cell_type": "code",
      "execution_count": 45,
      "metadata": {
        "id": "8lAs1ZXqDQnH"
      },
      "outputs": [],
      "source": [
        "import numpy as np\n",
        "import pandas as pd\n",
        "from matplotlib import pyplot as plt"
      ]
    },
    {
      "cell_type": "code",
      "source": [
        "data = pd.read_csv('train.csv')"
      ],
      "metadata": {
        "id": "hix7J7KqDikN"
      },
      "execution_count": 93,
      "outputs": []
    },
    {
      "cell_type": "markdown",
      "source": [
        "processing data"
      ],
      "metadata": {
        "id": "DbGpn8DnUUaW"
      }
    },
    {
      "cell_type": "code",
      "source": [
        "data = np.array(data)\n",
        "m, n = data.shape\n",
        "np.random.shuffle(data)\n",
        "\n",
        "data_dev = data[0:1000].T\n",
        "Y_dev = data_dev[0]\n",
        "X_dev = data_dev[1:n]\n",
        "X_dev = X_dev / 255.\n",
        "\n",
        "data_train = data[1000:m].T\n",
        "Y_train = data_train[0]\n",
        "X_train = data_train[1:n]\n",
        "X_train = X_train / 255.\n",
        "_,m_train = X_train.shape"
      ],
      "metadata": {
        "id": "RnBblRGbRuQ1"
      },
      "execution_count": 95,
      "outputs": []
    },
    {
      "cell_type": "code",
      "source": [
        "Y_train"
      ],
      "metadata": {
        "colab": {
          "base_uri": "https://localhost:8080/"
        },
        "id": "u33gHNdvdKlj",
        "outputId": "903eca03-a663-4945-b587-74b63882e76e"
      },
      "execution_count": 96,
      "outputs": [
        {
          "output_type": "execute_result",
          "data": {
            "text/plain": [
              "array([8, 2, 3, ..., 9, 2, 2])"
            ]
          },
          "metadata": {},
          "execution_count": 96
        }
      ]
    },
    {
      "cell_type": "markdown",
      "source": [
        "Defining necessary functions"
      ],
      "metadata": {
        "id": "bAYAE7OnOUrx"
      }
    },
    {
      "cell_type": "code",
      "source": [
        "def init_params():\n",
        "    W1 = np.random.normal(size=(10, 784)) * np.sqrt(1./(784))\n",
        "    b1 = np.random.normal(size=(10, 1)) * np.sqrt(1./10)\n",
        "    W2 = np.random.normal(size=(10, 10)) * np.sqrt(1./20)\n",
        "    b2 = np.random.normal(size=(10, 1)) * np.sqrt(1./(784))\n",
        "    return W1, b1, W2, b2\n",
        "\n",
        "def ReLU(Z):\n",
        "    return np.maximum(Z, 0)\n",
        "\n",
        "def softmax(Z):\n",
        "    Z -= np.max(Z, axis=0)\n",
        "    A = np.exp(Z) / np.sum(np.exp(Z), axis=0)\n",
        "    return A\n",
        "\n",
        "def forward_prop(W1, b1, W2, b2, X):\n",
        "    Z1 = W1.dot(X) + b1\n",
        "    A1 = ReLU(Z1)\n",
        "    Z2 = W2.dot(A1) + b2\n",
        "    A2 = softmax(Z2)\n",
        "    return Z1, A1, Z2, A2\n",
        "\n",
        "def ReLU_deriv(Z):\n",
        "    return Z > 0\n",
        "\n",
        "def one_hot(Y):\n",
        "    one_hot_Y = np.zeros((Y.size, Y.max() + 1))\n",
        "    one_hot_Y[np.arange(Y.size), Y] = 1\n",
        "    one_hot_Y = one_hot_Y.T\n",
        "    return one_hot_Y\n",
        "\n",
        "def backward_prop(Z1, A1, Z2, A2, W1, W2, X, Y):\n",
        "    one_hot_Y = one_hot(Y)\n",
        "    dZ2 = A2 - one_hot_Y\n",
        "    dW2 = 1 / m * dZ2.dot(A1.T)\n",
        "    db2 = 1 / m * np.sum(dZ2)\n",
        "    dZ1 = W2.T.dot(dZ2) * ReLU_deriv(Z1)\n",
        "    dW1 = 1 / m * dZ1.dot(X.T)\n",
        "    db1 = 1 / m * np.sum(dZ1)\n",
        "    return dW1, db1, dW2, db2\n",
        "\n",
        "def update_params(W1, b1, W2, b2, dW1, db1, dW2, db2, alpha):\n",
        "    W1 = W1 - alpha * dW1\n",
        "    b1 = b1 - alpha * db1\n",
        "    W2 = W2 - alpha * dW2\n",
        "    b2 = b2 - alpha * db2\n",
        "    return W1, b1, W2, b2"
      ],
      "metadata": {
        "id": "uKM-GiHENFa3"
      },
      "execution_count": 97,
      "outputs": []
    },
    {
      "cell_type": "markdown",
      "source": [
        "Learning functions"
      ],
      "metadata": {
        "id": "Lm5HCTiKUmbl"
      }
    },
    {
      "cell_type": "code",
      "source": [
        "def get_predictions(A2):\n",
        "    return np.argmax(A2, 0)\n",
        "\n",
        "def get_accuracy(predictions, Y):\n",
        "    print(predictions, Y)\n",
        "    return np.sum(predictions == Y) / Y.size*100\n",
        "\n",
        "def gradient_descent(X, Y, alpha, iterations):\n",
        "    W1, b1, W2, b2 = init_params()\n",
        "    for i in range(iterations):\n",
        "        Z1, A1, Z2, A2 = forward_prop(W1, b1, W2, b2, X)\n",
        "        dW1, db1, dW2, db2 = backward_prop(Z1, A1, Z2, A2, W1, W2, X, Y)\n",
        "        W1, b1, W2, b2 = update_params(W1, b1, W2, b2, dW1, db1, dW2, db2, alpha)\n",
        "        if i % 10 == 0:\n",
        "            print(\"Iteration: \", i)\n",
        "            predictions = get_predictions(A2)\n",
        "            print(get_accuracy(predictions, Y),\"%\")\n",
        "    return W1, b1, W2, b2"
      ],
      "metadata": {
        "id": "KRasbkjCURDy"
      },
      "execution_count": 104,
      "outputs": []
    },
    {
      "cell_type": "markdown",
      "source": [
        "training model"
      ],
      "metadata": {
        "id": "U-DBbHP9VPSS"
      }
    },
    {
      "cell_type": "code",
      "source": [
        "W1, b1, W2, b2 = gradient_descent(X_train, Y_train, 0.10, 500)"
      ],
      "metadata": {
        "colab": {
          "base_uri": "https://localhost:8080/"
        },
        "id": "IQt3twRuVLZn",
        "outputId": "bb6d3d95-306c-490f-ce28-a41a0c4f9dde"
      },
      "execution_count": 105,
      "outputs": [
        {
          "output_type": "stream",
          "name": "stdout",
          "text": [
            "Iteration:  0\n",
            "[8 8 8 ... 8 2 8] [8 2 3 ... 9 2 2]\n",
            "11.902439024390244 %\n",
            "Iteration:  10\n",
            "[1 6 3 ... 9 2 8] [8 2 3 ... 9 2 2]\n",
            "29.746341463414634 %\n",
            "Iteration:  20\n",
            "[1 6 3 ... 9 2 8] [8 2 3 ... 9 2 2]\n",
            "38.75853658536585 %\n",
            "Iteration:  30\n",
            "[1 2 3 ... 4 2 7] [8 2 3 ... 9 2 2]\n",
            "50.77560975609756 %\n",
            "Iteration:  40\n",
            "[8 2 3 ... 4 2 7] [8 2 3 ... 9 2 2]\n",
            "58.97317073170731 %\n",
            "Iteration:  50\n",
            "[8 2 3 ... 4 2 7] [8 2 3 ... 9 2 2]\n",
            "68.11219512195123 %\n",
            "Iteration:  60\n",
            "[8 2 3 ... 4 2 7] [8 2 3 ... 9 2 2]\n",
            "72.09268292682927 %\n",
            "Iteration:  70\n",
            "[8 2 3 ... 4 2 7] [8 2 3 ... 9 2 2]\n",
            "74.95365853658537 %\n",
            "Iteration:  80\n",
            "[8 2 3 ... 4 2 7] [8 2 3 ... 9 2 2]\n",
            "78.7609756097561 %\n",
            "Iteration:  90\n",
            "[8 2 3 ... 9 2 7] [8 2 3 ... 9 2 2]\n",
            "80.60487804878049 %\n",
            "Iteration:  100\n",
            "[8 2 3 ... 9 2 7] [8 2 3 ... 9 2 2]\n",
            "81.87073170731706 %\n",
            "Iteration:  110\n",
            "[8 2 3 ... 9 2 7] [8 2 3 ... 9 2 2]\n",
            "82.77073170731707 %\n",
            "Iteration:  120\n",
            "[8 2 3 ... 9 2 7] [8 2 3 ... 9 2 2]\n",
            "83.51463414634146 %\n",
            "Iteration:  130\n",
            "[8 2 3 ... 9 2 7] [8 2 3 ... 9 2 2]\n",
            "84.09024390243903 %\n",
            "Iteration:  140\n",
            "[8 2 3 ... 9 2 7] [8 2 3 ... 9 2 2]\n",
            "84.64390243902439 %\n",
            "Iteration:  150\n",
            "[8 2 3 ... 9 2 7] [8 2 3 ... 9 2 2]\n",
            "85.12682926829268 %\n",
            "Iteration:  160\n",
            "[8 2 3 ... 9 2 7] [8 2 3 ... 9 2 2]\n",
            "85.45121951219512 %\n",
            "Iteration:  170\n",
            "[8 2 3 ... 9 2 7] [8 2 3 ... 9 2 2]\n",
            "85.82195121951219 %\n",
            "Iteration:  180\n",
            "[8 2 3 ... 9 2 7] [8 2 3 ... 9 2 2]\n",
            "86.03414634146341 %\n",
            "Iteration:  190\n",
            "[8 2 3 ... 9 2 7] [8 2 3 ... 9 2 2]\n",
            "86.2609756097561 %\n",
            "Iteration:  200\n",
            "[8 2 3 ... 9 2 7] [8 2 3 ... 9 2 2]\n",
            "86.5 %\n",
            "Iteration:  210\n",
            "[8 2 3 ... 9 2 7] [8 2 3 ... 9 2 2]\n",
            "86.71219512195123 %\n",
            "Iteration:  220\n",
            "[8 2 3 ... 9 2 7] [8 2 3 ... 9 2 2]\n",
            "86.91219512195121 %\n",
            "Iteration:  230\n",
            "[8 2 3 ... 9 2 7] [8 2 3 ... 9 2 2]\n",
            "87.07560975609756 %\n",
            "Iteration:  240\n",
            "[8 2 3 ... 9 2 7] [8 2 3 ... 9 2 2]\n",
            "87.2609756097561 %\n",
            "Iteration:  250\n",
            "[8 2 3 ... 9 2 7] [8 2 3 ... 9 2 2]\n",
            "87.39756097560975 %\n",
            "Iteration:  260\n",
            "[8 2 3 ... 9 2 7] [8 2 3 ... 9 2 2]\n",
            "87.52195121951219 %\n",
            "Iteration:  270\n",
            "[8 2 3 ... 9 2 7] [8 2 3 ... 9 2 2]\n",
            "87.64878048780488 %\n",
            "Iteration:  280\n",
            "[8 2 3 ... 9 2 7] [8 2 3 ... 9 2 2]\n",
            "87.81463414634146 %\n",
            "Iteration:  290\n",
            "[8 2 3 ... 9 2 7] [8 2 3 ... 9 2 2]\n",
            "87.94390243902438 %\n",
            "Iteration:  300\n",
            "[8 2 3 ... 9 2 7] [8 2 3 ... 9 2 2]\n",
            "88.12682926829268 %\n",
            "Iteration:  310\n",
            "[8 2 3 ... 9 2 7] [8 2 3 ... 9 2 2]\n",
            "88.23658536585366 %\n",
            "Iteration:  320\n",
            "[8 2 3 ... 9 2 7] [8 2 3 ... 9 2 2]\n",
            "88.3780487804878 %\n",
            "Iteration:  330\n",
            "[8 2 3 ... 9 2 7] [8 2 3 ... 9 2 2]\n",
            "88.47317073170731 %\n",
            "Iteration:  340\n",
            "[8 2 3 ... 9 2 7] [8 2 3 ... 9 2 2]\n",
            "88.57317073170732 %\n",
            "Iteration:  350\n",
            "[8 2 3 ... 9 2 7] [8 2 3 ... 9 2 2]\n",
            "88.65121951219513 %\n",
            "Iteration:  360\n",
            "[8 2 3 ... 9 2 7] [8 2 3 ... 9 2 2]\n",
            "88.77317073170732 %\n",
            "Iteration:  370\n",
            "[8 2 3 ... 9 2 7] [8 2 3 ... 9 2 2]\n",
            "88.88780487804878 %\n",
            "Iteration:  380\n",
            "[8 2 3 ... 9 2 7] [8 2 3 ... 9 2 2]\n",
            "88.95121951219512 %\n",
            "Iteration:  390\n",
            "[8 2 3 ... 9 2 7] [8 2 3 ... 9 2 2]\n",
            "89.03658536585365 %\n",
            "Iteration:  400\n",
            "[8 2 3 ... 9 2 7] [8 2 3 ... 9 2 2]\n",
            "89.10975609756098 %\n",
            "Iteration:  410\n",
            "[8 2 3 ... 9 2 7] [8 2 3 ... 9 2 2]\n",
            "89.19756097560976 %\n",
            "Iteration:  420\n",
            "[8 2 3 ... 9 2 7] [8 2 3 ... 9 2 2]\n",
            "89.29756097560976 %\n",
            "Iteration:  430\n",
            "[8 2 3 ... 9 2 7] [8 2 3 ... 9 2 2]\n",
            "89.3829268292683 %\n",
            "Iteration:  440\n",
            "[8 2 3 ... 9 2 7] [8 2 3 ... 9 2 2]\n",
            "89.45121951219512 %\n",
            "Iteration:  450\n",
            "[8 2 3 ... 9 2 7] [8 2 3 ... 9 2 2]\n",
            "89.5 %\n",
            "Iteration:  460\n",
            "[8 2 3 ... 9 2 7] [8 2 3 ... 9 2 2]\n",
            "89.58048780487805 %\n",
            "Iteration:  470\n",
            "[8 2 3 ... 9 2 7] [8 2 3 ... 9 2 2]\n",
            "89.63170731707318 %\n",
            "Iteration:  480\n",
            "[8 2 3 ... 9 2 7] [8 2 3 ... 9 2 2]\n",
            "89.70975609756098 %\n",
            "Iteration:  490\n",
            "[8 2 3 ... 9 2 7] [8 2 3 ... 9 2 2]\n",
            "89.76341463414634 %\n"
          ]
        }
      ]
    },
    {
      "cell_type": "markdown",
      "source": [
        "90% accuracy"
      ],
      "metadata": {
        "id": "KbzLX0TXiWnq"
      }
    },
    {
      "cell_type": "code",
      "source": [
        "def make_predictions(X, W1, b1, W2, b2):\n",
        "    _, _, _, A2 = forward_prop(W1, b1, W2, b2, X)\n",
        "    predictions = get_predictions(A2)\n",
        "    return predictions\n",
        "\n",
        "def test_prediction(index, W1, b1, W2, b2):\n",
        "    current_image = X_train[:, index, None]\n",
        "    prediction = make_predictions(X_train[:, index, None], W1, b1, W2, b2)\n",
        "    label = Y_train[index]\n",
        "    print(\"Prediction: \", prediction)\n",
        "    print(\"Label: \", label)\n",
        "\n",
        "    current_image = current_image.reshape((28, 28)) * 255\n",
        "    plt.gray()\n",
        "    plt.imshow(current_image, interpolation='nearest')\n",
        "    plt.show()"
      ],
      "metadata": {
        "id": "aIqOAp5Ze66K"
      },
      "execution_count": 100,
      "outputs": []
    },
    {
      "cell_type": "code",
      "source": [
        "test_prediction(0, W1, b1, W2, b2)\n",
        "test_prediction(1, W1, b1, W2, b2)\n",
        "test_prediction(2, W1, b1, W2, b2)\n",
        "test_prediction(3, W1, b1, W2, b2)"
      ],
      "metadata": {
        "colab": {
          "base_uri": "https://localhost:8080/",
          "height": 1000
        },
        "id": "AxRbdLEwgL2W",
        "outputId": "f83e5054-09ce-4407-d3bf-503f65f57aca"
      },
      "execution_count": 101,
      "outputs": [
        {
          "output_type": "stream",
          "name": "stdout",
          "text": [
            "Prediction:  [8]\n",
            "Label:  8\n"
          ]
        },
        {
          "output_type": "display_data",
          "data": {
            "text/plain": [
              "<Figure size 640x480 with 1 Axes>"
            ],
            "image/png": "[encoded data removed]"
          },
          "metadata": {}
        },
        {
          "output_type": "stream",
          "name": "stdout",
          "text": [
            "Prediction:  [2]\n",
            "Label:  2\n"
          ]
        },
        {
          "output_type": "display_data",
          "data": {
            "text/plain": [
              "<Figure size 640x480 with 1 Axes>"
            ],
            "image/png": "[encoded data removed]"
          },
          "metadata": {}
        },
        {
          "output_type": "stream",
          "name": "stdout",
          "text": [
            "Prediction:  [3]\n",
            "Label:  3\n"
          ]
        },
        {
          "output_type": "display_data",
          "data": {
            "text/plain": [
              "<Figure size 640x480 with 1 Axes>"
            ],
            "image/png": "[encoded data removed]"
          },
          "metadata": {}
        },
        {
          "output_type": "stream",
          "name": "stdout",
          "text": [
            "Prediction:  [8]\n",
            "Label:  4\n"
          ]
        },
        {
          "output_type": "display_data",
          "data": {
            "text/plain": [
              "<Figure size 640x480 with 1 Axes>"
            ],
            "image/png": "[encoded data removed]"
          },
          "metadata": {}
        }
      ]
    }
  ]
}